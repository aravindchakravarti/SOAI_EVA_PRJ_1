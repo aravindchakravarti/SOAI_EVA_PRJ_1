{
  "nbformat": 4,
  "nbformat_minor": 0,
  "metadata": {
    "colab": {
      "name": "Aravind_Assignment_9.ipynb",
      "version": "0.3.2",
      "provenance": [],
      "collapsed_sections": []
    },
    "kernelspec": {
      "name": "python3",
      "display_name": "Python 3"
    },
    "accelerator": "GPU"
  },
  "cells": [
    {
      "cell_type": "markdown",
      "metadata": {
        "id": "Fjy7lIixz5Sh",
        "colab_type": "text"
      },
      "source": [
        "# Part - 1: Building the GradCam without the Cutout (Simply using my Assignment 6) "
      ]
    },
    {
      "cell_type": "code",
      "metadata": {
        "id": "KkwXnw9OfHZl",
        "colab_type": "code",
        "colab": {}
      },
      "source": [
        "from keras import backend as K\n",
        "import time\n",
        "import matplotlib.pyplot as plt\n",
        "import numpy as np\n",
        "% matplotlib inline\n",
        "np.random.seed(2017) \n",
        "from keras.models import Sequential\n",
        "from keras.layers.convolutional import Convolution2D, MaxPooling2D\n",
        "from keras.layers import Activation, Flatten, Dense, Dropout\n",
        "from keras.layers.normalization import BatchNormalization\n",
        "from keras.utils import np_utils"
      ],
      "execution_count": 0,
      "outputs": []
    },
    {
      "cell_type": "code",
      "metadata": {
        "id": "6KZxQgCE8Ehv",
        "colab_type": "code",
        "outputId": "606f3865-b4b8-4e8c-b187-beafa49352ba",
        "colab": {
          "base_uri": "https://localhost:8080/",
          "height": 34
        }
      },
      "source": [
        "# Run this cell to mount your Google Drive.\n",
        "from google.colab import drive\n",
        "drive.mount('/content/drive')"
      ],
      "execution_count": 121,
      "outputs": [
        {
          "output_type": "stream",
          "text": [
            "Drive already mounted at /content/drive; to attempt to forcibly remount, call drive.mount(\"/content/drive\", force_remount=True).\n"
          ],
          "name": "stdout"
        }
      ]
    },
    {
      "cell_type": "code",
      "metadata": {
        "id": "3OckMlewBEfF",
        "colab_type": "code",
        "outputId": "78664a29-f303-44ae-f35b-571051ca1af2",
        "colab": {
          "base_uri": "https://localhost:8080/",
          "height": 34
        }
      },
      "source": [
        "drive.mount(\"/content/drive\", force_remount=True)"
      ],
      "execution_count": 122,
      "outputs": [
        {
          "output_type": "stream",
          "text": [
            "Mounted at /content/drive\n"
          ],
          "name": "stdout"
        }
      ]
    },
    {
      "cell_type": "code",
      "metadata": {
        "id": "IPNbPFh__Md6",
        "colab_type": "code",
        "colab": {}
      },
      "source": [
        "!cp '/content/drive/My Drive/Cifar/cifar-10-batches-py.tar.gz' '/content/cifar-10-batches-py.tar.gz'"
      ],
      "execution_count": 0,
      "outputs": []
    },
    {
      "cell_type": "code",
      "metadata": {
        "id": "Hwsf7M3vB7S6",
        "colab_type": "code",
        "colab": {
          "base_uri": "https://localhost:8080/",
          "height": 34
        },
        "outputId": "9d670704-3698-43ad-d7c5-9ebd6c94674d"
      },
      "source": [
        "!cp '/content/cifar-10-batches-py.tar.gz' ~/.keras/datasets/"
      ],
      "execution_count": 5,
      "outputs": [
        {
          "output_type": "stream",
          "text": [
            "cp: cannot create regular file '/root/.keras/datasets/': Not a directory\n"
          ],
          "name": "stdout"
        }
      ]
    },
    {
      "cell_type": "code",
      "metadata": {
        "id": "NHpnoCHZfO8g",
        "colab_type": "code",
        "colab": {}
      },
      "source": [
        "from keras.datasets import cifar10\n",
        "(train_features, train_labels), (test_features, test_labels) = cifar10.load_data()\n",
        "num_train, img_channels, img_rows, img_cols =  train_features.shape\n",
        "num_test, _, _, _ =  test_features.shape\n",
        "num_classes = len(np.unique(train_labels))"
      ],
      "execution_count": 0,
      "outputs": []
    },
    {
      "cell_type": "code",
      "metadata": {
        "id": "14HyBUXdfS6G",
        "colab_type": "code",
        "outputId": "63241d3f-992b-4404-8868-1e53e1ace2d8",
        "colab": {
          "base_uri": "https://localhost:8080/",
          "height": 213
        }
      },
      "source": [
        "class_names = ['airplane','automobile','bird','cat','deer',\n",
        "               'dog','frog','horse','ship','truck']\n",
        "fig = plt.figure(figsize=(8,3))\n",
        "for i in range(num_classes):\n",
        "    ax = fig.add_subplot(2, 5, 1 + i, xticks=[], yticks=[])\n",
        "    idx = np.where(train_labels[:]==i)[0]\n",
        "    features_idx = train_features[idx,::]\n",
        "    img_num = np.random.randint(features_idx.shape[0])\n",
        "    im = features_idx[img_num]\n",
        "    ax.set_title(class_names[i])\n",
        "    plt.imshow(im)\n",
        "plt.show()"
      ],
      "execution_count": 124,
      "outputs": [
        {
          "output_type": "display_data",
          "data": {
            "image/png": "[encoded data removed]",
            "text/plain": [
              "<Figure size 576x216 with 10 Axes>"
            ]
          },
          "metadata": {
            "tags": []
          }
        }
      ]
    },
    {
      "cell_type": "code",
      "metadata": {
        "id": "bmfsk76-fadV",
        "colab_type": "code",
        "colab": {}
      },
      "source": [
        "def plot_model_history(model_history):\n",
        "    fig, axs = plt.subplots(1,2,figsize=(15,5))\n",
        "    # summarize history for accuracy\n",
        "    axs[0].plot(range(1,len(model_history.history['acc'])+1),model_history.history['acc'])\n",
        "    axs[0].plot(range(1,len(model_history.history['val_acc'])+1),model_history.history['val_acc'])\n",
        "    axs[0].set_title('Model Accuracy')\n",
        "    axs[0].set_ylabel('Accuracy')\n",
        "    axs[0].set_xlabel('Epoch')\n",
        "    axs[0].set_xticks(np.arange(1,len(model_history.history['acc'])+1),len(model_history.history['acc'])/10)\n",
        "    axs[0].legend(['train', 'val'], loc='best')\n",
        "    # summarize history for loss\n",
        "    axs[1].plot(range(1,len(model_history.history['loss'])+1),model_history.history['loss'])\n",
        "    axs[1].plot(range(1,len(model_history.history['val_loss'])+1),model_history.history['val_loss'])\n",
        "    axs[1].set_title('Model Loss')\n",
        "    axs[1].set_ylabel('Loss')\n",
        "    axs[1].set_xlabel('Epoch')\n",
        "    axs[1].set_xticks(np.arange(1,len(model_history.history['loss'])+1),len(model_history.history['loss'])/10)\n",
        "    axs[1].legend(['train', 'val'], loc='best')\n",
        "    plt.show()"
      ],
      "execution_count": 0,
      "outputs": []
    },
    {
      "cell_type": "code",
      "metadata": {
        "id": "YJMT4rjgfdZz",
        "colab_type": "code",
        "colab": {}
      },
      "source": [
        "def accuracy(test_x, test_y, model):\n",
        "    result = model.predict(test_x)\n",
        "    predicted_class = np.argmax(result, axis=1)\n",
        "    true_class = np.argmax(test_y, axis=1)\n",
        "    num_correct = np.sum(predicted_class == true_class) \n",
        "    accuracy = float(num_correct)/result.shape[0]\n",
        "    return (accuracy * 100)"
      ],
      "execution_count": 0,
      "outputs": []
    },
    {
      "cell_type": "code",
      "metadata": {
        "id": "T5c5nDvxm6zR",
        "colab_type": "code",
        "colab": {}
      },
      "source": [
        "train_features = train_features.astype('float32')/255\n",
        "test_features = test_features.astype('float32')/255\n",
        "# convert class labels to binary class labels\n",
        "train_labels = np_utils.to_categorical(train_labels, num_classes)\n",
        "test_labels = np_utils.to_categorical(test_labels, num_classes)"
      ],
      "execution_count": 0,
      "outputs": []
    },
    {
      "cell_type": "code",
      "metadata": {
        "id": "5YRzDt7BTcMG",
        "colab_type": "code",
        "colab": {}
      },
      "source": [
        "from keras.layers import BatchNormalization\n",
        "from keras.layers import GlobalAveragePooling2D\n",
        "from keras.layers import SpatialDropout2D"
      ],
      "execution_count": 0,
      "outputs": []
    },
    {
      "cell_type": "code",
      "metadata": {
        "id": "41uJbT6bStdh",
        "colab_type": "code",
        "outputId": "5b0ffd70-5eb6-4ccb-9872-d93e261a7fef",
        "colab": {
          "base_uri": "https://localhost:8080/",
          "height": 615
        }
      },
      "source": [
        "model = Sequential()\n",
        "\n",
        "model.add(Convolution2D(32, 3, 3, border_mode='same', input_shape=(32, 32, 3))) #03\n",
        "model.add(Activation('relu'))\n",
        "model.add(BatchNormalization())\n",
        "model.add(SpatialDropout2D(0.10))\n",
        "\n",
        "\n",
        "model.add(Convolution2D(64, 3, 3, border_mode='same'))                          #05\n",
        "model.add(Activation('relu'))\n",
        "model.add(BatchNormalization())\n",
        "model.add(SpatialDropout2D(0.10))\n",
        "\n",
        "model.add(Convolution2D(128, 3, 3, border_mode='same'))                         #07\n",
        "model.add(Activation('relu'))\n",
        "model.add(BatchNormalization())\n",
        "model.add(SpatialDropout2D(0.10))\n",
        "\n",
        "model.add(MaxPooling2D(pool_size=(2, 2)))                                       #14\n",
        "model.add(Convolution2D(32,1,1))                                                #14\n",
        "model.add(Activation('relu'))\n",
        "\n",
        "\n",
        "model.add(Convolution2D(64, 3, 3, border_mode='same'))                           #17\n",
        "model.add(Activation('relu'))\n",
        "model.add(BatchNormalization())\n",
        "model.add(SpatialDropout2D(0.10))\n",
        "\n",
        "model.add(Convolution2D(86, 3, 3, border_mode='same'))                           #20\n",
        "model.add(Activation('relu'))\n",
        "model.add(BatchNormalization())\n",
        "model.add(SpatialDropout2D(0.10))\n",
        "\n",
        "model.add(Convolution2D(128, 3, 3, border_mode='same'))                          #20\n",
        "model.add(Activation('relu'))\n",
        "model.add(BatchNormalization())\n",
        "model.add(SpatialDropout2D(0.10))\n",
        "\n",
        "model.add(MaxPooling2D(pool_size=(2, 2)))                                       #40\n",
        "model.add(Convolution2D(32,1,1, border_mode='same'))                            #40\n",
        "model.add(Activation('relu'))\n",
        "\n",
        "model.add(Convolution2D(64, 3, 3, border_mode='same'))                           #43\n",
        "model.add(Activation('relu'))\n",
        "model.add(BatchNormalization())\n",
        "model.add(SpatialDropout2D(0.10))\n",
        "\n",
        "model.add(Convolution2D(86, 3, 3, border_mode='same'))                           #46\n",
        "model.add(Activation('relu'))\n",
        "model.add(BatchNormalization())\n",
        "model.add(SpatialDropout2D(0.10))\n",
        "\n",
        "model.add(Convolution2D(10, 3, 3, border_mode='same', name = 'Decision'))        #49\n",
        "model.add(Activation('relu'))\n",
        "model.add(BatchNormalization())\n",
        "\n",
        "\n",
        "model.add(GlobalAveragePooling2D())\n",
        "#model.add(Flatten())\n",
        "model.add(Activation('softmax'))\n",
        "\n",
        "# Compile the model\n",
        "model.compile(optimizer='adam', loss='categorical_crossentropy', metrics=['accuracy'])"
      ],
      "execution_count": 10,
      "outputs": [
        {
          "output_type": "stream",
          "text": [
            "WARNING: Logging before flag parsing goes to stderr.\n",
            "W0630 17:28:44.461945 140338583336832 deprecation_wrapper.py:119] From /usr/local/lib/python3.6/dist-packages/keras/backend/tensorflow_backend.py:74: The name tf.get_default_graph is deprecated. Please use tf.compat.v1.get_default_graph instead.\n",
            "\n",
            "/usr/local/lib/python3.6/dist-packages/ipykernel_launcher.py:3: UserWarning: Update your `Conv2D` call to the Keras 2 API: `Conv2D(32, (3, 3), input_shape=(32, 32, 3..., padding=\"same\")`\n",
            "  This is separate from the ipykernel package so we can avoid doing imports until\n",
            "W0630 17:28:44.505057 140338583336832 deprecation_wrapper.py:119] From /usr/local/lib/python3.6/dist-packages/keras/backend/tensorflow_backend.py:517: The name tf.placeholder is deprecated. Please use tf.compat.v1.placeholder instead.\n",
            "\n",
            "W0630 17:28:44.514442 140338583336832 deprecation_wrapper.py:119] From /usr/local/lib/python3.6/dist-packages/keras/backend/tensorflow_backend.py:4138: The name tf.random_uniform is deprecated. Please use tf.random.uniform instead.\n",
            "\n",
            "W0630 17:28:44.559117 140338583336832 deprecation_wrapper.py:119] From /usr/local/lib/python3.6/dist-packages/keras/backend/tensorflow_backend.py:174: The name tf.get_default_session is deprecated. Please use tf.compat.v1.get_default_session instead.\n",
            "\n",
            "W0630 17:28:44.560095 140338583336832 deprecation_wrapper.py:119] From /usr/local/lib/python3.6/dist-packages/keras/backend/tensorflow_backend.py:181: The name tf.ConfigProto is deprecated. Please use tf.compat.v1.ConfigProto instead.\n",
            "\n",
            "W0630 17:28:47.236071 140338583336832 deprecation_wrapper.py:119] From /usr/local/lib/python3.6/dist-packages/keras/backend/tensorflow_backend.py:1834: The name tf.nn.fused_batch_norm is deprecated. Please use tf.compat.v1.nn.fused_batch_norm instead.\n",
            "\n",
            "W0630 17:28:47.410447 140338583336832 deprecation.py:506] From /usr/local/lib/python3.6/dist-packages/keras/backend/tensorflow_backend.py:3445: calling dropout (from tensorflow.python.ops.nn_ops) with keep_prob is deprecated and will be removed in a future version.\n",
            "Instructions for updating:\n",
            "Please use `rate` instead of `keep_prob`. Rate should be set to `rate = 1 - keep_prob`.\n",
            "/usr/local/lib/python3.6/dist-packages/ipykernel_launcher.py:9: UserWarning: Update your `Conv2D` call to the Keras 2 API: `Conv2D(64, (3, 3), padding=\"same\")`\n",
            "  if __name__ == '__main__':\n",
            "/usr/local/lib/python3.6/dist-packages/ipykernel_launcher.py:14: UserWarning: Update your `Conv2D` call to the Keras 2 API: `Conv2D(128, (3, 3), padding=\"same\")`\n",
            "  \n",
            "W0630 17:28:47.626953 140338583336832 deprecation_wrapper.py:119] From /usr/local/lib/python3.6/dist-packages/keras/backend/tensorflow_backend.py:3976: The name tf.nn.max_pool is deprecated. Please use tf.nn.max_pool2d instead.\n",
            "\n",
            "/usr/local/lib/python3.6/dist-packages/ipykernel_launcher.py:20: UserWarning: Update your `Conv2D` call to the Keras 2 API: `Conv2D(32, (1, 1))`\n",
            "/usr/local/lib/python3.6/dist-packages/ipykernel_launcher.py:24: UserWarning: Update your `Conv2D` call to the Keras 2 API: `Conv2D(64, (3, 3), padding=\"same\")`\n",
            "/usr/local/lib/python3.6/dist-packages/ipykernel_launcher.py:29: UserWarning: Update your `Conv2D` call to the Keras 2 API: `Conv2D(86, (3, 3), padding=\"same\")`\n",
            "/usr/local/lib/python3.6/dist-packages/ipykernel_launcher.py:34: UserWarning: Update your `Conv2D` call to the Keras 2 API: `Conv2D(128, (3, 3), padding=\"same\")`\n",
            "/usr/local/lib/python3.6/dist-packages/ipykernel_launcher.py:40: UserWarning: Update your `Conv2D` call to the Keras 2 API: `Conv2D(32, (1, 1), padding=\"same\")`\n",
            "/usr/local/lib/python3.6/dist-packages/ipykernel_launcher.py:43: UserWarning: Update your `Conv2D` call to the Keras 2 API: `Conv2D(64, (3, 3), padding=\"same\")`\n",
            "/usr/local/lib/python3.6/dist-packages/ipykernel_launcher.py:48: UserWarning: Update your `Conv2D` call to the Keras 2 API: `Conv2D(86, (3, 3), padding=\"same\")`\n",
            "/usr/local/lib/python3.6/dist-packages/ipykernel_launcher.py:53: UserWarning: Update your `Conv2D` call to the Keras 2 API: `Conv2D(10, (3, 3), name=\"Decision\", padding=\"same\")`\n",
            "W0630 17:28:48.255654 140338583336832 deprecation_wrapper.py:119] From /usr/local/lib/python3.6/dist-packages/keras/optimizers.py:790: The name tf.train.Optimizer is deprecated. Please use tf.compat.v1.train.Optimizer instead.\n",
            "\n"
          ],
          "name": "stderr"
        }
      ]
    },
    {
      "cell_type": "code",
      "metadata": {
        "id": "QjsNICsoStOc",
        "colab_type": "code",
        "outputId": "d55b3009-04aa-40b1-cfdd-3583f96e0a01",
        "colab": {
          "base_uri": "https://localhost:8080/",
          "height": 1000
        }
      },
      "source": [
        "model.summary()"
      ],
      "execution_count": 11,
      "outputs": [
        {
          "output_type": "stream",
          "text": [
            "_________________________________________________________________\n",
            "Layer (type)                 Output Shape              Param #   \n",
            "=================================================================\n",
            "conv2d_1 (Conv2D)            (None, 32, 32, 32)        896       \n",
            "_________________________________________________________________\n",
            "activation_1 (Activation)    (None, 32, 32, 32)        0         \n",
            "_________________________________________________________________\n",
            "batch_normalization_1 (Batch (None, 32, 32, 32)        128       \n",
            "_________________________________________________________________\n",
            "spatial_dropout2d_1 (Spatial (None, 32, 32, 32)        0         \n",
            "_________________________________________________________________\n",
            "conv2d_2 (Conv2D)            (None, 32, 32, 64)        18496     \n",
            "_________________________________________________________________\n",
            "activation_2 (Activation)    (None, 32, 32, 64)        0         \n",
            "_________________________________________________________________\n",
            "batch_normalization_2 (Batch (None, 32, 32, 64)        256       \n",
            "_________________________________________________________________\n",
            "spatial_dropout2d_2 (Spatial (None, 32, 32, 64)        0         \n",
            "_________________________________________________________________\n",
            "conv2d_3 (Conv2D)            (None, 32, 32, 128)       73856     \n",
            "_________________________________________________________________\n",
            "activation_3 (Activation)    (None, 32, 32, 128)       0         \n",
            "_________________________________________________________________\n",
            "batch_normalization_3 (Batch (None, 32, 32, 128)       512       \n",
            "_________________________________________________________________\n",
            "spatial_dropout2d_3 (Spatial (None, 32, 32, 128)       0         \n",
            "_________________________________________________________________\n",
            "max_pooling2d_1 (MaxPooling2 (None, 16, 16, 128)       0         \n",
            "_________________________________________________________________\n",
            "conv2d_4 (Conv2D)            (None, 16, 16, 32)        4128      \n",
            "_________________________________________________________________\n",
            "activation_4 (Activation)    (None, 16, 16, 32)        0         \n",
            "_________________________________________________________________\n",
            "conv2d_5 (Conv2D)            (None, 16, 16, 64)        18496     \n",
            "_________________________________________________________________\n",
            "activation_5 (Activation)    (None, 16, 16, 64)        0         \n",
            "_________________________________________________________________\n",
            "batch_normalization_4 (Batch (None, 16, 16, 64)        256       \n",
            "_________________________________________________________________\n",
            "spatial_dropout2d_4 (Spatial (None, 16, 16, 64)        0         \n",
            "_________________________________________________________________\n",
            "conv2d_6 (Conv2D)            (None, 16, 16, 86)        49622     \n",
            "_________________________________________________________________\n",
            "activation_6 (Activation)    (None, 16, 16, 86)        0         \n",
            "_________________________________________________________________\n",
            "batch_normalization_5 (Batch (None, 16, 16, 86)        344       \n",
            "_________________________________________________________________\n",
            "spatial_dropout2d_5 (Spatial (None, 16, 16, 86)        0         \n",
            "_________________________________________________________________\n",
            "conv2d_7 (Conv2D)            (None, 16, 16, 128)       99200     \n",
            "_________________________________________________________________\n",
            "activation_7 (Activation)    (None, 16, 16, 128)       0         \n",
            "_________________________________________________________________\n",
            "batch_normalization_6 (Batch (None, 16, 16, 128)       512       \n",
            "_________________________________________________________________\n",
            "spatial_dropout2d_6 (Spatial (None, 16, 16, 128)       0         \n",
            "_________________________________________________________________\n",
            "max_pooling2d_2 (MaxPooling2 (None, 8, 8, 128)         0         \n",
            "_________________________________________________________________\n",
            "conv2d_8 (Conv2D)            (None, 8, 8, 32)          4128      \n",
            "_________________________________________________________________\n",
            "activation_8 (Activation)    (None, 8, 8, 32)          0         \n",
            "_________________________________________________________________\n",
            "conv2d_9 (Conv2D)            (None, 8, 8, 64)          18496     \n",
            "_________________________________________________________________\n",
            "activation_9 (Activation)    (None, 8, 8, 64)          0         \n",
            "_________________________________________________________________\n",
            "batch_normalization_7 (Batch (None, 8, 8, 64)          256       \n",
            "_________________________________________________________________\n",
            "spatial_dropout2d_7 (Spatial (None, 8, 8, 64)          0         \n",
            "_________________________________________________________________\n",
            "conv2d_10 (Conv2D)           (None, 8, 8, 86)          49622     \n",
            "_________________________________________________________________\n",
            "activation_10 (Activation)   (None, 8, 8, 86)          0         \n",
            "_________________________________________________________________\n",
            "batch_normalization_8 (Batch (None, 8, 8, 86)          344       \n",
            "_________________________________________________________________\n",
            "spatial_dropout2d_8 (Spatial (None, 8, 8, 86)          0         \n",
            "_________________________________________________________________\n",
            "Decision (Conv2D)            (None, 8, 8, 10)          7750      \n",
            "_________________________________________________________________\n",
            "activation_11 (Activation)   (None, 8, 8, 10)          0         \n",
            "_________________________________________________________________\n",
            "batch_normalization_9 (Batch (None, 8, 8, 10)          40        \n",
            "_________________________________________________________________\n",
            "global_average_pooling2d_1 ( (None, 10)                0         \n",
            "_________________________________________________________________\n",
            "activation_12 (Activation)   (None, 10)                0         \n",
            "=================================================================\n",
            "Total params: 347,338\n",
            "Trainable params: 346,014\n",
            "Non-trainable params: 1,324\n",
            "_________________________________________________________________\n"
          ],
          "name": "stdout"
        }
      ]
    },
    {
      "cell_type": "code",
      "metadata": {
        "id": "TXxsfPZPWzKI",
        "colab_type": "code",
        "outputId": "f62c20ae-341c-49f3-d712-23ad9c565e46",
        "colab": {
          "base_uri": "https://localhost:8080/",
          "height": 1000
        }
      },
      "source": [
        "from keras.preprocessing.image import ImageDataGenerator\n",
        "\n",
        "datagen = ImageDataGenerator(zoom_range=0.0, \n",
        "                             horizontal_flip=False)\n",
        "\n",
        "\n",
        "# train the model\n",
        "start = time.time()\n",
        "# Train the model\n",
        "model_info = model.fit_generator(datagen.flow(train_features, train_labels, batch_size = 128),\n",
        "                                 samples_per_epoch = train_features.shape[0], nb_epoch = 100, \n",
        "                                 validation_data = (test_features, test_labels), verbose=1)\n",
        "end = time.time()\n",
        "print (\"Model took %0.2f seconds to train\"%(end - start))\n",
        "# plot model history\n",
        "plot_model_history(model_info)\n",
        "# compute test accuracy\n",
        "print (\"Accuracy on test data is: %0.2f\"%accuracy(test_features, test_labels, model))"
      ],
      "execution_count": 12,
      "outputs": [
        {
          "output_type": "stream",
          "text": [
            "/usr/local/lib/python3.6/dist-packages/ipykernel_launcher.py:12: UserWarning: The semantics of the Keras 2 argument `steps_per_epoch` is not the same as the Keras 1 argument `samples_per_epoch`. `steps_per_epoch` is the number of batches to draw from the generator at each epoch. Basically steps_per_epoch = samples_per_epoch/batch_size. Similarly `nb_val_samples`->`validation_steps` and `val_samples`->`steps` arguments have changed. Update your method calls accordingly.\n",
            "  if sys.path[0] == '':\n",
            "/usr/local/lib/python3.6/dist-packages/ipykernel_launcher.py:12: UserWarning: Update your `fit_generator` call to the Keras 2 API: `fit_generator(<keras_pre..., validation_data=(array([[[..., verbose=1, steps_per_epoch=390, epochs=100)`\n",
            "  if sys.path[0] == '':\n",
            "W0630 17:28:57.629445 140338583336832 deprecation.py:323] From /usr/local/lib/python3.6/dist-packages/tensorflow/python/ops/math_grad.py:1250: add_dispatch_support.<locals>.wrapper (from tensorflow.python.ops.array_ops) is deprecated and will be removed in a future version.\n",
            "Instructions for updating:\n",
            "Use tf.where in 2.0, which has the same broadcast rule as np.where\n"
          ],
          "name": "stderr"
        },
        {
          "output_type": "stream",
          "text": [
            "Epoch 1/100\n",
            "390/390 [==============================] - 30s 77ms/step - loss: 1.5384 - acc: 0.4638 - val_loss: 1.7054 - val_acc: 0.4366\n",
            "Epoch 2/100\n",
            "390/390 [==============================] - 25s 64ms/step - loss: 1.1219 - acc: 0.6277 - val_loss: 1.1379 - val_acc: 0.6129\n",
            "Epoch 3/100\n",
            "390/390 [==============================] - 25s 64ms/step - loss: 0.9466 - acc: 0.6869 - val_loss: 0.8320 - val_acc: 0.7180\n",
            "Epoch 4/100\n",
            "390/390 [==============================] - 25s 63ms/step - loss: 0.8283 - acc: 0.7271 - val_loss: 0.8562 - val_acc: 0.7159\n",
            "Epoch 5/100\n",
            "390/390 [==============================] - 25s 63ms/step - loss: 0.7382 - acc: 0.7573 - val_loss: 0.6623 - val_acc: 0.7793\n",
            "Epoch 6/100\n",
            "390/390 [==============================] - 25s 63ms/step - loss: 0.6708 - acc: 0.7795 - val_loss: 0.6623 - val_acc: 0.7781\n",
            "Epoch 7/100\n",
            "390/390 [==============================] - 24s 63ms/step - loss: 0.6196 - acc: 0.7943 - val_loss: 0.7111 - val_acc: 0.7617\n",
            "Epoch 8/100\n",
            "390/390 [==============================] - 24s 63ms/step - loss: 0.5776 - acc: 0.8095 - val_loss: 0.5603 - val_acc: 0.8104\n",
            "Epoch 9/100\n",
            "390/390 [==============================] - 24s 63ms/step - loss: 0.5438 - acc: 0.8212 - val_loss: 0.5969 - val_acc: 0.7989\n",
            "Epoch 10/100\n",
            "390/390 [==============================] - 25s 63ms/step - loss: 0.5155 - acc: 0.8298 - val_loss: 0.5511 - val_acc: 0.8144\n",
            "Epoch 11/100\n",
            "390/390 [==============================] - 25s 63ms/step - loss: 0.4893 - acc: 0.8384 - val_loss: 0.5469 - val_acc: 0.8174\n",
            "Epoch 12/100\n",
            "390/390 [==============================] - 25s 64ms/step - loss: 0.4699 - acc: 0.8446 - val_loss: 0.4879 - val_acc: 0.8367\n",
            "Epoch 13/100\n",
            "390/390 [==============================] - 25s 64ms/step - loss: 0.4444 - acc: 0.8512 - val_loss: 0.4758 - val_acc: 0.8427\n",
            "Epoch 14/100\n",
            "390/390 [==============================] - 25s 64ms/step - loss: 0.4313 - acc: 0.8564 - val_loss: 0.5044 - val_acc: 0.8339\n",
            "Epoch 15/100\n",
            "390/390 [==============================] - 25s 63ms/step - loss: 0.4158 - acc: 0.8622 - val_loss: 0.4716 - val_acc: 0.8445\n",
            "Epoch 16/100\n",
            "390/390 [==============================] - 25s 63ms/step - loss: 0.3997 - acc: 0.8664 - val_loss: 0.4836 - val_acc: 0.8425\n",
            "Epoch 17/100\n",
            "390/390 [==============================] - 24s 63ms/step - loss: 0.3866 - acc: 0.8718 - val_loss: 0.4594 - val_acc: 0.8475\n",
            "Epoch 18/100\n",
            "390/390 [==============================] - 25s 63ms/step - loss: 0.3751 - acc: 0.8742 - val_loss: 0.4883 - val_acc: 0.8347\n",
            "Epoch 19/100\n",
            "390/390 [==============================] - 25s 63ms/step - loss: 0.3623 - acc: 0.8792 - val_loss: 0.4385 - val_acc: 0.8523\n",
            "Epoch 20/100\n",
            "390/390 [==============================] - 24s 63ms/step - loss: 0.3527 - acc: 0.8810 - val_loss: 0.4504 - val_acc: 0.8538\n",
            "Epoch 21/100\n",
            "390/390 [==============================] - 25s 63ms/step - loss: 0.3413 - acc: 0.8852 - val_loss: 0.4402 - val_acc: 0.8564\n",
            "Epoch 22/100\n",
            "390/390 [==============================] - 24s 63ms/step - loss: 0.3334 - acc: 0.8871 - val_loss: 0.4477 - val_acc: 0.8484\n",
            "Epoch 23/100\n",
            "390/390 [==============================] - 24s 63ms/step - loss: 0.3214 - acc: 0.8914 - val_loss: 0.4661 - val_acc: 0.8465\n",
            "Epoch 24/100\n",
            "390/390 [==============================] - 24s 63ms/step - loss: 0.3131 - acc: 0.8947 - val_loss: 0.4840 - val_acc: 0.8440\n",
            "Epoch 25/100\n",
            "390/390 [==============================] - 24s 63ms/step - loss: 0.3047 - acc: 0.8981 - val_loss: 0.4928 - val_acc: 0.8400\n",
            "Epoch 26/100\n",
            "390/390 [==============================] - 25s 63ms/step - loss: 0.2967 - acc: 0.8991 - val_loss: 0.4443 - val_acc: 0.8585\n",
            "Epoch 27/100\n",
            "390/390 [==============================] - 24s 63ms/step - loss: 0.2883 - acc: 0.9031 - val_loss: 0.4343 - val_acc: 0.8577\n",
            "Epoch 28/100\n",
            "390/390 [==============================] - 24s 63ms/step - loss: 0.2825 - acc: 0.9061 - val_loss: 0.4412 - val_acc: 0.8576\n",
            "Epoch 29/100\n",
            "390/390 [==============================] - 24s 63ms/step - loss: 0.2754 - acc: 0.9065 - val_loss: 0.4596 - val_acc: 0.8499\n",
            "Epoch 30/100\n",
            "390/390 [==============================] - 24s 63ms/step - loss: 0.2687 - acc: 0.9091 - val_loss: 0.4345 - val_acc: 0.8584\n",
            "Epoch 31/100\n",
            "390/390 [==============================] - 25s 63ms/step - loss: 0.2717 - acc: 0.9077 - val_loss: 0.4573 - val_acc: 0.8547\n",
            "Epoch 32/100\n",
            "390/390 [==============================] - 24s 63ms/step - loss: 0.2597 - acc: 0.9116 - val_loss: 0.4905 - val_acc: 0.8452\n",
            "Epoch 33/100\n",
            "390/390 [==============================] - 24s 63ms/step - loss: 0.2527 - acc: 0.9152 - val_loss: 0.4365 - val_acc: 0.8612\n",
            "Epoch 34/100\n",
            "390/390 [==============================] - 24s 63ms/step - loss: 0.2482 - acc: 0.9154 - val_loss: 0.4257 - val_acc: 0.8625\n",
            "Epoch 35/100\n",
            "390/390 [==============================] - 24s 63ms/step - loss: 0.2383 - acc: 0.9192 - val_loss: 0.4560 - val_acc: 0.8570\n",
            "Epoch 36/100\n",
            "390/390 [==============================] - 25s 63ms/step - loss: 0.2357 - acc: 0.9197 - val_loss: 0.4583 - val_acc: 0.8566\n",
            "Epoch 37/100\n",
            "390/390 [==============================] - 25s 63ms/step - loss: 0.2352 - acc: 0.9197 - val_loss: 0.4280 - val_acc: 0.8651\n",
            "Epoch 38/100\n",
            "390/390 [==============================] - 25s 63ms/step - loss: 0.2289 - acc: 0.9221 - val_loss: 0.4364 - val_acc: 0.8635\n",
            "Epoch 39/100\n",
            "390/390 [==============================] - 24s 63ms/step - loss: 0.2242 - acc: 0.9236 - val_loss: 0.4486 - val_acc: 0.8635\n",
            "Epoch 40/100\n",
            " 30/390 [=>............................] - ETA: 21s - loss: 0.2339 - acc: 0.9193"
          ],
          "name": "stdout"
        },
        {
          "output_type": "error",
          "ename": "KeyboardInterrupt",
          "evalue": "ignored",
          "traceback": [
            "\u001b[0;31m---------------------------------------------------------------------------\u001b[0m",
            "\u001b[0;31mKeyboardInterrupt\u001b[0m                         Traceback (most recent call last)",
            "\u001b[0;32m<ipython-input-12-2f9984c78b67>\u001b[0m in \u001b[0;36m<module>\u001b[0;34m()\u001b[0m\n\u001b[1;32m     10\u001b[0m model_info = model.fit_generator(datagen.flow(train_features, train_labels, batch_size = 128),\n\u001b[1;32m     11\u001b[0m                                  \u001b[0msamples_per_epoch\u001b[0m \u001b[0;34m=\u001b[0m \u001b[0mtrain_features\u001b[0m\u001b[0;34m.\u001b[0m\u001b[0mshape\u001b[0m\u001b[0;34m[\u001b[0m\u001b[0;36m0\u001b[0m\u001b[0;34m]\u001b[0m\u001b[0;34m,\u001b[0m \u001b[0mnb_epoch\u001b[0m \u001b[0;34m=\u001b[0m \u001b[0;36m100\u001b[0m\u001b[0;34m,\u001b[0m\u001b[0;34m\u001b[0m\u001b[0;34m\u001b[0m\u001b[0m\n\u001b[0;32m---> 12\u001b[0;31m                                  validation_data = (test_features, test_labels), verbose=1)\n\u001b[0m\u001b[1;32m     13\u001b[0m \u001b[0mend\u001b[0m \u001b[0;34m=\u001b[0m \u001b[0mtime\u001b[0m\u001b[0;34m.\u001b[0m\u001b[0mtime\u001b[0m\u001b[0;34m(\u001b[0m\u001b[0;34m)\u001b[0m\u001b[0;34m\u001b[0m\u001b[0;34m\u001b[0m\u001b[0m\n\u001b[1;32m     14\u001b[0m \u001b[0mprint\u001b[0m \u001b[0;34m(\u001b[0m\u001b[0;34m\"Model took %0.2f seconds to train\"\u001b[0m\u001b[0;34m%\u001b[0m\u001b[0;34m(\u001b[0m\u001b[0mend\u001b[0m \u001b[0;34m-\u001b[0m \u001b[0mstart\u001b[0m\u001b[0;34m)\u001b[0m\u001b[0;34m)\u001b[0m\u001b[0;34m\u001b[0m\u001b[0;34m\u001b[0m\u001b[0m\n",
            "\u001b[0;32m/usr/local/lib/python3.6/dist-packages/keras/legacy/interfaces.py\u001b[0m in \u001b[0;36mwrapper\u001b[0;34m(*args, **kwargs)\u001b[0m\n\u001b[1;32m     89\u001b[0m                 warnings.warn('Update your `' + object_name + '` call to the ' +\n\u001b[1;32m     90\u001b[0m                               'Keras 2 API: ' + signature, stacklevel=2)\n\u001b[0;32m---> 91\u001b[0;31m             \u001b[0;32mreturn\u001b[0m \u001b[0mfunc\u001b[0m\u001b[0;34m(\u001b[0m\u001b[0;34m*\u001b[0m\u001b[0margs\u001b[0m\u001b[0;34m,\u001b[0m \u001b[0;34m**\u001b[0m\u001b[0mkwargs\u001b[0m\u001b[0;34m)\u001b[0m\u001b[0;34m\u001b[0m\u001b[0;34m\u001b[0m\u001b[0m\n\u001b[0m\u001b[1;32m     92\u001b[0m         \u001b[0mwrapper\u001b[0m\u001b[0;34m.\u001b[0m\u001b[0m_original_function\u001b[0m \u001b[0;34m=\u001b[0m \u001b[0mfunc\u001b[0m\u001b[0;34m\u001b[0m\u001b[0;34m\u001b[0m\u001b[0m\n\u001b[1;32m     93\u001b[0m         \u001b[0;32mreturn\u001b[0m \u001b[0mwrapper\u001b[0m\u001b[0;34m\u001b[0m\u001b[0;34m\u001b[0m\u001b[0m\n",
            "\u001b[0;32m/usr/local/lib/python3.6/dist-packages/keras/engine/training.py\u001b[0m in \u001b[0;36mfit_generator\u001b[0;34m(self, generator, steps_per_epoch, epochs, verbose, callbacks, validation_data, validation_steps, class_weight, max_queue_size, workers, use_multiprocessing, shuffle, initial_epoch)\u001b[0m\n\u001b[1;32m   1416\u001b[0m             \u001b[0muse_multiprocessing\u001b[0m\u001b[0;34m=\u001b[0m\u001b[0muse_multiprocessing\u001b[0m\u001b[0;34m,\u001b[0m\u001b[0;34m\u001b[0m\u001b[0;34m\u001b[0m\u001b[0m\n\u001b[1;32m   1417\u001b[0m             \u001b[0mshuffle\u001b[0m\u001b[0;34m=\u001b[0m\u001b[0mshuffle\u001b[0m\u001b[0;34m,\u001b[0m\u001b[0;34m\u001b[0m\u001b[0;34m\u001b[0m\u001b[0m\n\u001b[0;32m-> 1418\u001b[0;31m             initial_epoch=initial_epoch)\n\u001b[0m\u001b[1;32m   1419\u001b[0m \u001b[0;34m\u001b[0m\u001b[0m\n\u001b[1;32m   1420\u001b[0m     \u001b[0;34m@\u001b[0m\u001b[0minterfaces\u001b[0m\u001b[0;34m.\u001b[0m\u001b[0mlegacy_generator_methods_support\u001b[0m\u001b[0;34m\u001b[0m\u001b[0;34m\u001b[0m\u001b[0m\n",
            "\u001b[0;32m/usr/local/lib/python3.6/dist-packages/keras/engine/training_generator.py\u001b[0m in \u001b[0;36mfit_generator\u001b[0;34m(model, generator, steps_per_epoch, epochs, verbose, callbacks, validation_data, validation_steps, class_weight, max_queue_size, workers, use_multiprocessing, shuffle, initial_epoch)\u001b[0m\n\u001b[1;32m    215\u001b[0m                 outs = model.train_on_batch(x, y,\n\u001b[1;32m    216\u001b[0m                                             \u001b[0msample_weight\u001b[0m\u001b[0;34m=\u001b[0m\u001b[0msample_weight\u001b[0m\u001b[0;34m,\u001b[0m\u001b[0;34m\u001b[0m\u001b[0;34m\u001b[0m\u001b[0m\n\u001b[0;32m--> 217\u001b[0;31m                                             class_weight=class_weight)\n\u001b[0m\u001b[1;32m    218\u001b[0m \u001b[0;34m\u001b[0m\u001b[0m\n\u001b[1;32m    219\u001b[0m                 \u001b[0mouts\u001b[0m \u001b[0;34m=\u001b[0m \u001b[0mto_list\u001b[0m\u001b[0;34m(\u001b[0m\u001b[0mouts\u001b[0m\u001b[0;34m)\u001b[0m\u001b[0;34m\u001b[0m\u001b[0;34m\u001b[0m\u001b[0m\n",
            "\u001b[0;32m/usr/local/lib/python3.6/dist-packages/keras/engine/training.py\u001b[0m in \u001b[0;36mtrain_on_batch\u001b[0;34m(self, x, y, sample_weight, class_weight)\u001b[0m\n\u001b[1;32m   1215\u001b[0m             \u001b[0mins\u001b[0m \u001b[0;34m=\u001b[0m \u001b[0mx\u001b[0m \u001b[0;34m+\u001b[0m \u001b[0my\u001b[0m \u001b[0;34m+\u001b[0m \u001b[0msample_weights\u001b[0m\u001b[0;34m\u001b[0m\u001b[0;34m\u001b[0m\u001b[0m\n\u001b[1;32m   1216\u001b[0m         \u001b[0mself\u001b[0m\u001b[0;34m.\u001b[0m\u001b[0m_make_train_function\u001b[0m\u001b[0;34m(\u001b[0m\u001b[0;34m)\u001b[0m\u001b[0;34m\u001b[0m\u001b[0;34m\u001b[0m\u001b[0m\n\u001b[0;32m-> 1217\u001b[0;31m         \u001b[0moutputs\u001b[0m \u001b[0;34m=\u001b[0m \u001b[0mself\u001b[0m\u001b[0;34m.\u001b[0m\u001b[0mtrain_function\u001b[0m\u001b[0;34m(\u001b[0m\u001b[0mins\u001b[0m\u001b[0;34m)\u001b[0m\u001b[0;34m\u001b[0m\u001b[0;34m\u001b[0m\u001b[0m\n\u001b[0m\u001b[1;32m   1218\u001b[0m         \u001b[0;32mreturn\u001b[0m \u001b[0munpack_singleton\u001b[0m\u001b[0;34m(\u001b[0m\u001b[0moutputs\u001b[0m\u001b[0;34m)\u001b[0m\u001b[0;34m\u001b[0m\u001b[0;34m\u001b[0m\u001b[0m\n\u001b[1;32m   1219\u001b[0m \u001b[0;34m\u001b[0m\u001b[0m\n",
            "\u001b[0;32m/usr/local/lib/python3.6/dist-packages/keras/backend/tensorflow_backend.py\u001b[0m in \u001b[0;36m__call__\u001b[0;34m(self, inputs)\u001b[0m\n\u001b[1;32m   2713\u001b[0m                 \u001b[0;32mreturn\u001b[0m \u001b[0mself\u001b[0m\u001b[0;34m.\u001b[0m\u001b[0m_legacy_call\u001b[0m\u001b[0;34m(\u001b[0m\u001b[0minputs\u001b[0m\u001b[0;34m)\u001b[0m\u001b[0;34m\u001b[0m\u001b[0;34m\u001b[0m\u001b[0m\n\u001b[1;32m   2714\u001b[0m \u001b[0;34m\u001b[0m\u001b[0m\n\u001b[0;32m-> 2715\u001b[0;31m             \u001b[0;32mreturn\u001b[0m \u001b[0mself\u001b[0m\u001b[0;34m.\u001b[0m\u001b[0m_call\u001b[0m\u001b[0;34m(\u001b[0m\u001b[0minputs\u001b[0m\u001b[0;34m)\u001b[0m\u001b[0;34m\u001b[0m\u001b[0;34m\u001b[0m\u001b[0m\n\u001b[0m\u001b[1;32m   2716\u001b[0m         \u001b[0;32melse\u001b[0m\u001b[0;34m:\u001b[0m\u001b[0;34m\u001b[0m\u001b[0;34m\u001b[0m\u001b[0m\n\u001b[1;32m   2717\u001b[0m             \u001b[0;32mif\u001b[0m \u001b[0mpy_any\u001b[0m\u001b[0;34m(\u001b[0m\u001b[0mis_tensor\u001b[0m\u001b[0;34m(\u001b[0m\u001b[0mx\u001b[0m\u001b[0;34m)\u001b[0m \u001b[0;32mfor\u001b[0m \u001b[0mx\u001b[0m \u001b[0;32min\u001b[0m \u001b[0minputs\u001b[0m\u001b[0;34m)\u001b[0m\u001b[0;34m:\u001b[0m\u001b[0;34m\u001b[0m\u001b[0;34m\u001b[0m\u001b[0m\n",
            "\u001b[0;32m/usr/local/lib/python3.6/dist-packages/keras/backend/tensorflow_backend.py\u001b[0m in \u001b[0;36m_call\u001b[0;34m(self, inputs)\u001b[0m\n\u001b[1;32m   2673\u001b[0m             \u001b[0mfetched\u001b[0m \u001b[0;34m=\u001b[0m \u001b[0mself\u001b[0m\u001b[0;34m.\u001b[0m\u001b[0m_callable_fn\u001b[0m\u001b[0;34m(\u001b[0m\u001b[0;34m*\u001b[0m\u001b[0marray_vals\u001b[0m\u001b[0;34m,\u001b[0m \u001b[0mrun_metadata\u001b[0m\u001b[0;34m=\u001b[0m\u001b[0mself\u001b[0m\u001b[0;34m.\u001b[0m\u001b[0mrun_metadata\u001b[0m\u001b[0;34m)\u001b[0m\u001b[0;34m\u001b[0m\u001b[0;34m\u001b[0m\u001b[0m\n\u001b[1;32m   2674\u001b[0m         \u001b[0;32melse\u001b[0m\u001b[0;34m:\u001b[0m\u001b[0;34m\u001b[0m\u001b[0;34m\u001b[0m\u001b[0m\n\u001b[0;32m-> 2675\u001b[0;31m             \u001b[0mfetched\u001b[0m \u001b[0;34m=\u001b[0m \u001b[0mself\u001b[0m\u001b[0;34m.\u001b[0m\u001b[0m_callable_fn\u001b[0m\u001b[0;34m(\u001b[0m\u001b[0;34m*\u001b[0m\u001b[0marray_vals\u001b[0m\u001b[0;34m)\u001b[0m\u001b[0;34m\u001b[0m\u001b[0;34m\u001b[0m\u001b[0m\n\u001b[0m\u001b[1;32m   2676\u001b[0m         \u001b[0;32mreturn\u001b[0m \u001b[0mfetched\u001b[0m\u001b[0;34m[\u001b[0m\u001b[0;34m:\u001b[0m\u001b[0mlen\u001b[0m\u001b[0;34m(\u001b[0m\u001b[0mself\u001b[0m\u001b[0;34m.\u001b[0m\u001b[0moutputs\u001b[0m\u001b[0;34m)\u001b[0m\u001b[0;34m]\u001b[0m\u001b[0;34m\u001b[0m\u001b[0;34m\u001b[0m\u001b[0m\n\u001b[1;32m   2677\u001b[0m \u001b[0;34m\u001b[0m\u001b[0m\n",
            "\u001b[0;32m/usr/local/lib/python3.6/dist-packages/tensorflow/python/client/session.py\u001b[0m in \u001b[0;36m__call__\u001b[0;34m(self, *args, **kwargs)\u001b[0m\n\u001b[1;32m   1456\u001b[0m         ret = tf_session.TF_SessionRunCallable(self._session._session,\n\u001b[1;32m   1457\u001b[0m                                                \u001b[0mself\u001b[0m\u001b[0;34m.\u001b[0m\u001b[0m_handle\u001b[0m\u001b[0;34m,\u001b[0m \u001b[0margs\u001b[0m\u001b[0;34m,\u001b[0m\u001b[0;34m\u001b[0m\u001b[0;34m\u001b[0m\u001b[0m\n\u001b[0;32m-> 1458\u001b[0;31m                                                run_metadata_ptr)\n\u001b[0m\u001b[1;32m   1459\u001b[0m         \u001b[0;32mif\u001b[0m \u001b[0mrun_metadata\u001b[0m\u001b[0;34m:\u001b[0m\u001b[0;34m\u001b[0m\u001b[0;34m\u001b[0m\u001b[0m\n\u001b[1;32m   1460\u001b[0m           \u001b[0mproto_data\u001b[0m \u001b[0;34m=\u001b[0m \u001b[0mtf_session\u001b[0m\u001b[0;34m.\u001b[0m\u001b[0mTF_GetBuffer\u001b[0m\u001b[0;34m(\u001b[0m\u001b[0mrun_metadata_ptr\u001b[0m\u001b[0;34m)\u001b[0m\u001b[0;34m\u001b[0m\u001b[0;34m\u001b[0m\u001b[0m\n",
            "\u001b[0;31mKeyboardInterrupt\u001b[0m: "
          ]
        }
      ]
    },
    {
      "cell_type": "code",
      "metadata": {
        "id": "wP_oC9Fpeqm7",
        "colab_type": "code",
        "colab": {}
      },
      "source": [
        "# Save the weights\n",
        "# model.save_weights('/content/drive/My Drive/Cifar/My_6A_2_Checkpoint')"
      ],
      "execution_count": 0,
      "outputs": []
    },
    {
      "cell_type": "code",
      "metadata": {
        "id": "-amuOROtfwcJ",
        "colab_type": "code",
        "colab": {}
      },
      "source": [
        "# Restore the weights\n",
        "model.load_weights('/content/drive/My Drive/Cifar/My_6A_2_Checkpoint')"
      ],
      "execution_count": 0,
      "outputs": []
    },
    {
      "cell_type": "code",
      "metadata": {
        "id": "bRrW3SbQfeN0",
        "colab_type": "code",
        "outputId": "3993cf07-b63c-4fe0-da67-3d70962ed515",
        "colab": {
          "base_uri": "https://localhost:8080/",
          "height": 51
        }
      },
      "source": [
        "loss,acc = model.evaluate(test_features, test_labels)\n",
        "print(\"Restored model, accuracy: {:5.2f}%\".format(100*acc))"
      ],
      "execution_count": 15,
      "outputs": [
        {
          "output_type": "stream",
          "text": [
            "10000/10000 [==============================] - 2s 193us/step\n",
            "Restored model, accuracy: 86.42%\n"
          ],
          "name": "stdout"
        }
      ]
    },
    {
      "cell_type": "code",
      "metadata": {
        "id": "LBSekb97AXBV",
        "colab_type": "code",
        "colab": {}
      },
      "source": [
        "# I don't know what all libraries required, so importing all :-D\n",
        "\n",
        "from keras.applications.vgg16 import VGG16, preprocess_input\n",
        "from keras.preprocessing import image\n",
        "import keras.backend as K\n",
        "import numpy as np\n",
        "import cv2\n",
        "import sys"
      ],
      "execution_count": 0,
      "outputs": []
    },
    {
      "cell_type": "code",
      "metadata": {
        "id": "xLKqp-wBA4CD",
        "colab_type": "code",
        "colab": {
          "base_uri": "https://localhost:8080/",
          "height": 405
        },
        "outputId": "d92949f6-4e3b-4b49-e812-d8607b92975f"
      },
      "source": [
        "'''\n",
        "'airplane','automobile','bird','cat','deer', 'dog','frog','horse','ship','truck'\n",
        "'''\n",
        "\n",
        "# Manually selected 4 images \n",
        "test_img_numbers = [1600,50,90,2000]\n",
        "\n",
        "# Creating an array to hold images. There may be a better way! I am not sure yet\n",
        "image_show_in_grid = np.uint8((np.arange(24576).reshape(8,32,32,3))/24576)\n",
        "\n",
        "for test_img_idx in range(4):\n",
        "\n",
        "  # Get the image\n",
        "  img = test_features[test_img_numbers[test_img_idx],:,:,:]\n",
        "  \n",
        "  print ('Original Label' + str(test_labels[test_img_idx,:]))\n",
        "\n",
        "  x = image.img_to_array(img)\n",
        "  x = np.expand_dims(x, axis=0)\n",
        "\n",
        "  preds = model.predict(x)\n",
        "  #print (preds)\n",
        "  class_idx = np.argmax(preds[0])\n",
        "  print ('Predicted label ' + str(class_idx))\n",
        "\n",
        "  class_output = model.output[:, class_idx]\n",
        "  last_conv_layer = model.get_layer(\"Decision\")\n",
        "\n",
        "  # Generate HeatMap\n",
        "  grads = K.gradients(class_output, last_conv_layer.output)[0]\n",
        "  pooled_grads = K.mean(grads, axis=(0, 1, 2))\n",
        "  iterate = K.function([model.input], [pooled_grads, last_conv_layer.output[0]])\n",
        "  pooled_grads_value, conv_layer_output_value = iterate([x])\n",
        "  for i in range(10):\n",
        "      conv_layer_output_value[:, :, i] *= pooled_grads_value[i]\n",
        "\n",
        "  heatmap = np.mean(conv_layer_output_value, axis=-1)\n",
        "  heatmap = np.maximum(heatmap, 0)\n",
        "  heatmap /= np.max(heatmap)\n",
        "\n",
        "\n",
        "  img = test_features[test_img_numbers[test_img_idx],:,:,:]\n",
        "\n",
        "\n",
        "  heatmap = cv2.resize(heatmap, (img.shape[1], img.shape[0]))\n",
        "  heatmap = np.uint8(255 * heatmap)\n",
        "  heatmap = cv2.applyColorMap(heatmap, cv2.COLORMAP_JET)\n",
        "\n",
        "  img = np.uint8(255 * img)\n",
        "\n",
        "  superimposed_img = cv2.addWeighted(img, 0.6, heatmap, 0.4, 0)\n",
        "\n",
        "  #plt.imshow(superimposed_img)\n",
        "\n",
        "  image_show_in_grid[test_img_idx,:,:,:]  = img \n",
        "  image_show_in_grid[test_img_idx+4,:,:,:] = superimposed_img\n",
        "  print(test_img_idx)\n",
        "  \n",
        "\n",
        "fig = plt.figure(figsize=(8,3))\n",
        "for i in range(8):\n",
        "    ax = fig.add_subplot(2, 4, 1 + i, xticks=[], yticks=[])\n",
        "    im = image_show_in_grid[i, :,:,:]\n",
        "    plt.imshow(im)\n",
        "plt.show()\n"
      ],
      "execution_count": 110,
      "outputs": [
        {
          "output_type": "stream",
          "text": [
            "Original Label[0. 0. 0. 1. 0. 0. 0. 0. 0. 0.]\n",
            "Predicted label 8\n",
            "0\n",
            "Original Label[0. 0. 0. 0. 0. 0. 0. 0. 1. 0.]\n",
            "Predicted label 9\n",
            "1\n",
            "Original Label[0. 0. 0. 0. 0. 0. 0. 0. 1. 0.]\n",
            "Predicted label 0\n",
            "2\n",
            "Original Label[1. 0. 0. 0. 0. 0. 0. 0. 0. 0.]\n",
            "Predicted label 1\n",
            "3\n"
          ],
          "name": "stdout"
        },
        {
          "output_type": "display_data",
          "data": {
            "image/png": "[encoded data removed]",
            "text/plain": [
              "<Figure size 576x216 with 8 Axes>"
            ]
          },
          "metadata": {
            "tags": []
          }
        }
      ]
    },
    {
      "cell_type": "markdown",
      "metadata": {
        "id": "DpFb7gu84fIo",
        "colab_type": "text"
      },
      "source": [
        "# Part - 2: Building the GradCam with the Cutout "
      ]
    },
    {
      "cell_type": "code",
      "metadata": {
        "id": "qemLIGc34eqF",
        "colab_type": "code",
        "colab": {}
      },
      "source": [
        "# Copied code from\n",
        "# https://github.com/yu4u/cutout-random-erasing/blob/master/random_eraser.py\n",
        "\n",
        "\n",
        "def get_random_eraser(p=0.5, s_l=0.02, s_h=0.4, r_1=0.3, r_2=1/0.3, v_l=0, v_h=255, pixel_level=False):\n",
        "    def eraser(input_img):\n",
        "        img_h, img_w, img_c = input_img.shape\n",
        "        p_1 = np.random.rand()\n",
        "\n",
        "        if p_1 > p:\n",
        "            return input_img\n",
        "\n",
        "        while True:\n",
        "            s = np.random.uniform(s_l, s_h) * img_h * img_w\n",
        "            r = np.random.uniform(r_1, r_2)\n",
        "            w = int(np.sqrt(s / r))\n",
        "            h = int(np.sqrt(s * r))\n",
        "            left = np.random.randint(0, img_w)\n",
        "            top = np.random.randint(0, img_h)\n",
        "\n",
        "            if left + w <= img_w and top + h <= img_h:\n",
        "                break\n",
        "\n",
        "        if pixel_level:\n",
        "            c = np.random.uniform(v_l, v_h, (h, w, img_c))\n",
        "        else:\n",
        "            c = np.random.uniform(v_l, v_h)\n",
        "\n",
        "        input_img[top:top + h, left:left + w, :] = c\n",
        "\n",
        "        return input_img\n",
        "\n",
        "    return eraser"
      ],
      "execution_count": 0,
      "outputs": []
    },
    {
      "cell_type": "code",
      "metadata": {
        "id": "jDRgBXiq5lmd",
        "colab_type": "code",
        "colab": {
          "base_uri": "https://localhost:8080/",
          "height": 255
        },
        "outputId": "2196b0ef-5b44-497a-ced4-e82aac2b87dc"
      },
      "source": [
        "model = Sequential()\n",
        "\n",
        "model.add(Convolution2D(32, 3, 3, border_mode='same', input_shape=(32, 32, 3))) #03\n",
        "model.add(Activation('relu'))\n",
        "model.add(BatchNormalization())\n",
        "model.add(SpatialDropout2D(0.10))\n",
        "\n",
        "\n",
        "model.add(Convolution2D(64, 3, 3, border_mode='same'))                          #05\n",
        "model.add(Activation('relu'))\n",
        "model.add(BatchNormalization())\n",
        "model.add(SpatialDropout2D(0.10))\n",
        "\n",
        "model.add(Convolution2D(128, 3, 3, border_mode='same'))                         #07\n",
        "model.add(Activation('relu'))\n",
        "model.add(BatchNormalization())\n",
        "model.add(SpatialDropout2D(0.10))\n",
        "\n",
        "model.add(MaxPooling2D(pool_size=(2, 2)))                                       #14\n",
        "model.add(Convolution2D(32,1,1))                                                #14\n",
        "model.add(Activation('relu'))\n",
        "\n",
        "\n",
        "model.add(Convolution2D(64, 3, 3, border_mode='same'))                           #17\n",
        "model.add(Activation('relu'))\n",
        "model.add(BatchNormalization())\n",
        "model.add(SpatialDropout2D(0.10))\n",
        "\n",
        "model.add(Convolution2D(86, 3, 3, border_mode='same'))                           #20\n",
        "model.add(Activation('relu'))\n",
        "model.add(BatchNormalization())\n",
        "model.add(SpatialDropout2D(0.10))\n",
        "\n",
        "model.add(Convolution2D(128, 3, 3, border_mode='same'))                          #20\n",
        "model.add(Activation('relu'))\n",
        "model.add(BatchNormalization())\n",
        "model.add(SpatialDropout2D(0.10))\n",
        "\n",
        "model.add(MaxPooling2D(pool_size=(2, 2)))                                       #40\n",
        "model.add(Convolution2D(32,1,1, border_mode='same'))                            #40\n",
        "model.add(Activation('relu'))\n",
        "\n",
        "model.add(Convolution2D(64, 3, 3, border_mode='same'))                           #43\n",
        "model.add(Activation('relu'))\n",
        "model.add(BatchNormalization())\n",
        "model.add(SpatialDropout2D(0.10))\n",
        "\n",
        "model.add(Convolution2D(86, 3, 3, border_mode='same'))                           #46\n",
        "model.add(Activation('relu'))\n",
        "model.add(BatchNormalization())\n",
        "model.add(SpatialDropout2D(0.10))\n",
        "\n",
        "model.add(Convolution2D(10, 3, 3, border_mode='same', name = 'Decision'))        #49\n",
        "model.add(Activation('relu'))\n",
        "model.add(BatchNormalization())\n",
        "\n",
        "\n",
        "model.add(GlobalAveragePooling2D())\n",
        "#model.add(Flatten())\n",
        "model.add(Activation('softmax'))\n",
        "\n",
        "# Compile the model\n",
        "model.compile(optimizer='adam', loss='categorical_crossentropy', metrics=['accuracy'])"
      ],
      "execution_count": 130,
      "outputs": [
        {
          "output_type": "stream",
          "text": [
            "/usr/local/lib/python3.6/dist-packages/ipykernel_launcher.py:3: UserWarning: Update your `Conv2D` call to the Keras 2 API: `Conv2D(32, (3, 3), input_shape=(32, 32, 3..., padding=\"same\")`\n",
            "  This is separate from the ipykernel package so we can avoid doing imports until\n",
            "/usr/local/lib/python3.6/dist-packages/ipykernel_launcher.py:9: UserWarning: Update your `Conv2D` call to the Keras 2 API: `Conv2D(64, (3, 3), padding=\"same\")`\n",
            "  if __name__ == '__main__':\n",
            "/usr/local/lib/python3.6/dist-packages/ipykernel_launcher.py:14: UserWarning: Update your `Conv2D` call to the Keras 2 API: `Conv2D(128, (3, 3), padding=\"same\")`\n",
            "  \n",
            "/usr/local/lib/python3.6/dist-packages/ipykernel_launcher.py:20: UserWarning: Update your `Conv2D` call to the Keras 2 API: `Conv2D(32, (1, 1))`\n",
            "/usr/local/lib/python3.6/dist-packages/ipykernel_launcher.py:24: UserWarning: Update your `Conv2D` call to the Keras 2 API: `Conv2D(64, (3, 3), padding=\"same\")`\n",
            "/usr/local/lib/python3.6/dist-packages/ipykernel_launcher.py:29: UserWarning: Update your `Conv2D` call to the Keras 2 API: `Conv2D(86, (3, 3), padding=\"same\")`\n",
            "/usr/local/lib/python3.6/dist-packages/ipykernel_launcher.py:34: UserWarning: Update your `Conv2D` call to the Keras 2 API: `Conv2D(128, (3, 3), padding=\"same\")`\n",
            "/usr/local/lib/python3.6/dist-packages/ipykernel_launcher.py:40: UserWarning: Update your `Conv2D` call to the Keras 2 API: `Conv2D(32, (1, 1), padding=\"same\")`\n",
            "/usr/local/lib/python3.6/dist-packages/ipykernel_launcher.py:43: UserWarning: Update your `Conv2D` call to the Keras 2 API: `Conv2D(64, (3, 3), padding=\"same\")`\n",
            "/usr/local/lib/python3.6/dist-packages/ipykernel_launcher.py:48: UserWarning: Update your `Conv2D` call to the Keras 2 API: `Conv2D(86, (3, 3), padding=\"same\")`\n",
            "/usr/local/lib/python3.6/dist-packages/ipykernel_launcher.py:53: UserWarning: Update your `Conv2D` call to the Keras 2 API: `Conv2D(10, (3, 3), name=\"Decision\", padding=\"same\")`\n"
          ],
          "name": "stderr"
        }
      ]
    },
    {
      "cell_type": "code",
      "metadata": {
        "id": "Z0KiEDSf5ZIG",
        "colab_type": "code",
        "colab": {
          "base_uri": "https://localhost:8080/",
          "height": 1000
        },
        "outputId": "7e310edd-79c7-43d9-ac12-19271273d849"
      },
      "source": [
        "datagen = ImageDataGenerator(zoom_range=0.0, \n",
        "                             horizontal_flip=False, \n",
        "                             preprocessing_function=get_random_eraser(p=0.5, s_l = 0.02, s_h = 0.4))\n",
        "\n",
        "\n",
        "# train the model\n",
        "start = time.time()\n",
        "# Train the model\n",
        "model_info = model.fit_generator(datagen.flow(train_features, train_labels, batch_size = 128),\n",
        "                                 samples_per_epoch = train_features.shape[0], nb_epoch = 50,\n",
        "                                 validation_data = (test_features, test_labels), verbose=1)\n",
        "end = time.time()\n",
        "print (\"Model took %0.2f seconds to train\"%(end - start))\n",
        "# plot model history\n",
        "plot_model_history(model_info)\n",
        "# compute test accuracy\n",
        "print (\"Accuracy on test data is: %0.2f\"%accuracy(test_features, test_labels, model))"
      ],
      "execution_count": 134,
      "outputs": [
        {
          "output_type": "stream",
          "text": [
            "/usr/local/lib/python3.6/dist-packages/ipykernel_launcher.py:11: UserWarning: The semantics of the Keras 2 argument `steps_per_epoch` is not the same as the Keras 1 argument `samples_per_epoch`. `steps_per_epoch` is the number of batches to draw from the generator at each epoch. Basically steps_per_epoch = samples_per_epoch/batch_size. Similarly `nb_val_samples`->`validation_steps` and `val_samples`->`steps` arguments have changed. Update your method calls accordingly.\n",
            "  # This is added back by InteractiveShellApp.init_path()\n",
            "/usr/local/lib/python3.6/dist-packages/ipykernel_launcher.py:11: UserWarning: Update your `fit_generator` call to the Keras 2 API: `fit_generator(<keras_pre..., validation_data=(array([[[..., verbose=1, steps_per_epoch=390, epochs=50)`\n",
            "  # This is added back by InteractiveShellApp.init_path()\n"
          ],
          "name": "stderr"
        },
        {
          "output_type": "stream",
          "text": [
            "Epoch 1/50\n",
            "390/390 [==============================] - 40s 102ms/step - loss: 2.3039 - acc: 0.1018 - val_loss: 2.3026 - val_acc: 0.1000\n",
            "Epoch 2/50\n",
            "390/390 [==============================] - 37s 96ms/step - loss: 2.2009 - acc: 0.1536 - val_loss: 2.1196 - val_acc: 0.2165\n",
            "Epoch 3/50\n",
            "390/390 [==============================] - 38s 97ms/step - loss: 1.7050 - acc: 0.3853 - val_loss: 1.7192 - val_acc: 0.3651\n",
            "Epoch 4/50\n",
            "390/390 [==============================] - 38s 97ms/step - loss: 1.4545 - acc: 0.4870 - val_loss: 1.2147 - val_acc: 0.5753\n",
            "Epoch 5/50\n",
            "390/390 [==============================] - 38s 99ms/step - loss: 1.2704 - acc: 0.5578 - val_loss: 1.0330 - val_acc: 0.6396\n",
            "Epoch 6/50\n",
            "390/390 [==============================] - 39s 99ms/step - loss: 1.1343 - acc: 0.6083 - val_loss: 0.9298 - val_acc: 0.6777\n",
            "Epoch 7/50\n",
            "390/390 [==============================] - 38s 97ms/step - loss: 1.0372 - acc: 0.6451 - val_loss: 0.8361 - val_acc: 0.7148\n",
            "Epoch 8/50\n",
            "390/390 [==============================] - 38s 97ms/step - loss: 0.9556 - acc: 0.6742 - val_loss: 0.7779 - val_acc: 0.7367\n",
            "Epoch 9/50\n",
            "390/390 [==============================] - 39s 99ms/step - loss: 0.8819 - acc: 0.7011 - val_loss: 0.6975 - val_acc: 0.7622\n",
            "Epoch 10/50\n",
            "390/390 [==============================] - 39s 99ms/step - loss: 0.8309 - acc: 0.7181 - val_loss: 0.6958 - val_acc: 0.7585\n",
            "Epoch 11/50\n",
            "390/390 [==============================] - 38s 97ms/step - loss: 0.7813 - acc: 0.7352 - val_loss: 0.6459 - val_acc: 0.7789\n",
            "Epoch 12/50\n",
            "390/390 [==============================] - 38s 98ms/step - loss: 0.7498 - acc: 0.7460 - val_loss: 0.6072 - val_acc: 0.7982\n",
            "Epoch 13/50\n",
            "390/390 [==============================] - 38s 96ms/step - loss: 0.7207 - acc: 0.7560 - val_loss: 0.5924 - val_acc: 0.8021\n",
            "Epoch 14/50\n",
            "390/390 [==============================] - 38s 98ms/step - loss: 0.7023 - acc: 0.7584 - val_loss: 0.5994 - val_acc: 0.7926\n",
            "Epoch 15/50\n",
            "390/390 [==============================] - 37s 95ms/step - loss: 0.6675 - acc: 0.7731 - val_loss: 0.5466 - val_acc: 0.8141\n",
            "Epoch 16/50\n",
            "390/390 [==============================] - 38s 98ms/step - loss: 0.6519 - acc: 0.7768 - val_loss: 0.5442 - val_acc: 0.8193\n",
            "Epoch 17/50\n",
            "390/390 [==============================] - 37s 96ms/step - loss: 0.6391 - acc: 0.7828 - val_loss: 0.5654 - val_acc: 0.8136\n",
            "Epoch 18/50\n",
            "390/390 [==============================] - 38s 97ms/step - loss: 0.6138 - acc: 0.7915 - val_loss: 0.5214 - val_acc: 0.8233\n",
            "Epoch 19/50\n",
            "390/390 [==============================] - 38s 98ms/step - loss: 0.6071 - acc: 0.7918 - val_loss: 0.5100 - val_acc: 0.8228\n",
            "Epoch 20/50\n",
            "390/390 [==============================] - 38s 96ms/step - loss: 0.5946 - acc: 0.7958 - val_loss: 0.5236 - val_acc: 0.8224\n",
            "Epoch 21/50\n",
            "390/390 [==============================] - 37s 95ms/step - loss: 0.5734 - acc: 0.8030 - val_loss: 0.4826 - val_acc: 0.8353\n",
            "Epoch 22/50\n",
            "390/390 [==============================] - 38s 98ms/step - loss: 0.5691 - acc: 0.8049 - val_loss: 0.4903 - val_acc: 0.8352\n",
            "Epoch 23/50\n",
            "390/390 [==============================] - 37s 96ms/step - loss: 0.5570 - acc: 0.8091 - val_loss: 0.5100 - val_acc: 0.8258\n",
            "Epoch 24/50\n",
            "390/390 [==============================] - 38s 96ms/step - loss: 0.5436 - acc: 0.8142 - val_loss: 0.4792 - val_acc: 0.8348\n",
            "Epoch 25/50\n",
            "390/390 [==============================] - 37s 96ms/step - loss: 0.5322 - acc: 0.8184 - val_loss: 0.4713 - val_acc: 0.8403\n",
            "Epoch 26/50\n",
            "390/390 [==============================] - 38s 98ms/step - loss: 0.5243 - acc: 0.8207 - val_loss: 0.4791 - val_acc: 0.8366\n",
            "Epoch 27/50\n",
            "390/390 [==============================] - 38s 97ms/step - loss: 0.5113 - acc: 0.8239 - val_loss: 0.4857 - val_acc: 0.8314\n",
            "Epoch 28/50\n",
            "390/390 [==============================] - 38s 98ms/step - loss: 0.5077 - acc: 0.8265 - val_loss: 0.4841 - val_acc: 0.8372\n",
            "Epoch 29/50\n",
            "390/390 [==============================] - 38s 97ms/step - loss: 0.4942 - acc: 0.8321 - val_loss: 0.4640 - val_acc: 0.8425\n",
            "Epoch 30/50\n",
            "390/390 [==============================] - 38s 97ms/step - loss: 0.4934 - acc: 0.8323 - val_loss: 0.4603 - val_acc: 0.8441\n",
            "Epoch 31/50\n",
            "390/390 [==============================] - 38s 97ms/step - loss: 0.4868 - acc: 0.8333 - val_loss: 0.4587 - val_acc: 0.8460\n",
            "Epoch 32/50\n",
            "390/390 [==============================] - 38s 97ms/step - loss: 0.4815 - acc: 0.8337 - val_loss: 0.4547 - val_acc: 0.8474\n",
            "Epoch 33/50\n",
            "390/390 [==============================] - 38s 98ms/step - loss: 0.4696 - acc: 0.8394 - val_loss: 0.4541 - val_acc: 0.8472\n",
            "Epoch 34/50\n",
            "390/390 [==============================] - 37s 96ms/step - loss: 0.4701 - acc: 0.8389 - val_loss: 0.4576 - val_acc: 0.8456\n",
            "Epoch 35/50\n",
            "390/390 [==============================] - 38s 96ms/step - loss: 0.4557 - acc: 0.8420 - val_loss: 0.4744 - val_acc: 0.8424\n",
            "Epoch 36/50\n",
            "390/390 [==============================] - 37s 94ms/step - loss: 0.4504 - acc: 0.8440 - val_loss: 0.4372 - val_acc: 0.8545\n",
            "Epoch 37/50\n",
            "390/390 [==============================] - 38s 97ms/step - loss: 0.4503 - acc: 0.8458 - val_loss: 0.4380 - val_acc: 0.8539\n",
            "Epoch 38/50\n",
            "390/390 [==============================] - 37s 95ms/step - loss: 0.4407 - acc: 0.8494 - val_loss: 0.4362 - val_acc: 0.8554\n",
            "Epoch 39/50\n",
            "390/390 [==============================] - 38s 96ms/step - loss: 0.4296 - acc: 0.8530 - val_loss: 0.4301 - val_acc: 0.8560\n",
            "Epoch 40/50\n",
            "390/390 [==============================] - 38s 98ms/step - loss: 0.4266 - acc: 0.8541 - val_loss: 0.4378 - val_acc: 0.8539\n",
            "Epoch 41/50\n",
            "390/390 [==============================] - 37s 96ms/step - loss: 0.4238 - acc: 0.8544 - val_loss: 0.4125 - val_acc: 0.8650\n",
            "Epoch 42/50\n",
            "390/390 [==============================] - 38s 97ms/step - loss: 0.4205 - acc: 0.8559 - val_loss: 0.4383 - val_acc: 0.8526\n",
            "Epoch 43/50\n",
            "390/390 [==============================] - 38s 97ms/step - loss: 0.4133 - acc: 0.8573 - val_loss: 0.4299 - val_acc: 0.8580\n",
            "Epoch 44/50\n",
            "390/390 [==============================] - 38s 98ms/step - loss: 0.4179 - acc: 0.8566 - val_loss: 0.4426 - val_acc: 0.8539\n",
            "Epoch 45/50\n",
            "390/390 [==============================] - 38s 98ms/step - loss: 0.4105 - acc: 0.8599 - val_loss: 0.4304 - val_acc: 0.8578\n",
            "Epoch 46/50\n",
            "390/390 [==============================] - 37s 95ms/step - loss: 0.4024 - acc: 0.8622 - val_loss: 0.4178 - val_acc: 0.8591\n",
            "Epoch 47/50\n",
            "390/390 [==============================] - 38s 97ms/step - loss: 0.4009 - acc: 0.8616 - val_loss: 0.4170 - val_acc: 0.8608\n",
            "Epoch 48/50\n",
            "390/390 [==============================] - 37s 96ms/step - loss: 0.3978 - acc: 0.8631 - val_loss: 0.4226 - val_acc: 0.8619\n",
            "Epoch 49/50\n",
            "390/390 [==============================] - 38s 96ms/step - loss: 0.3965 - acc: 0.8640 - val_loss: 0.4314 - val_acc: 0.8578\n",
            "Epoch 50/50\n",
            "390/390 [==============================] - 37s 96ms/step - loss: 0.3860 - acc: 0.8686 - val_loss: 0.4304 - val_acc: 0.8603\n",
            "Model took 1891.29 seconds to train\n"
          ],
          "name": "stdout"
        },
        {
          "output_type": "display_data",
          "data": {
            "image/png": "[encoded data removed]",
            "text/plain": [
              "<Figure size 1080x360 with 2 Axes>"
            ]
          },
          "metadata": {
            "tags": []
          }
        },
        {
          "output_type": "stream",
          "text": [
            "Accuracy on test data is: 86.03\n"
          ],
          "name": "stdout"
        }
      ]
    },
    {
      "cell_type": "code",
      "metadata": {
        "id": "r5o3awGQBJrj",
        "colab_type": "code",
        "colab": {}
      },
      "source": [
        "# Save the weights\n",
        "# model.save_weights('/content/drive/My Drive/Cifar/My_Ass_9_Checkpoint')"
      ],
      "execution_count": 0,
      "outputs": []
    },
    {
      "cell_type": "code",
      "metadata": {
        "id": "HeP-kecFIdQj",
        "colab_type": "code",
        "colab": {}
      },
      "source": [
        "# Restore the weights\n",
        "model.load_weights('/content/drive/My Drive/Cifar/My_6A_2_Checkpoint')"
      ],
      "execution_count": 0,
      "outputs": []
    },
    {
      "cell_type": "code",
      "metadata": {
        "id": "OL4PzL2oBO3I",
        "colab_type": "code",
        "colab": {
          "base_uri": "https://localhost:8080/",
          "height": 51
        },
        "outputId": "295c7d64-bec5-4ea5-f441-21f19e16334e"
      },
      "source": [
        "loss,acc = model.evaluate(test_features, test_labels)\n",
        "print(\"Restored model, accuracy: {:5.2f}%\".format(100*acc))"
      ],
      "execution_count": 138,
      "outputs": [
        {
          "output_type": "stream",
          "text": [
            "10000/10000 [==============================] - 2s 222us/step\n",
            "Restored model, accuracy: 86.42%\n"
          ],
          "name": "stdout"
        }
      ]
    },
    {
      "cell_type": "code",
      "metadata": {
        "id": "bsbd7hvpKpxp",
        "colab_type": "code",
        "colab": {
          "base_uri": "https://localhost:8080/",
          "height": 405
        },
        "outputId": "2a29fd8b-6d11-4ecf-8b42-a91f729d646a"
      },
      "source": [
        "'''\n",
        "'airplane','automobile','bird','cat','deer', 'dog','frog','horse','ship','truck'\n",
        "'''\n",
        "\n",
        "# Manually selected 4 images \n",
        "test_img_numbers = [1600,50,90,2000]\n",
        "\n",
        "# Creating an array to hold images. There may be a better way! I am not sure yet\n",
        "image_show_in_grid = np.uint8((np.arange(24576).reshape(8,32,32,3))/24576)\n",
        "\n",
        "for test_img_idx in range(4):\n",
        "\n",
        "  # Get the image\n",
        "  img = test_features[test_img_numbers[test_img_idx],:,:,:]\n",
        "  \n",
        "  print ('Original Label' + str(test_labels[test_img_idx,:]))\n",
        "\n",
        "  x = image.img_to_array(img)\n",
        "  x = np.expand_dims(x, axis=0)\n",
        "\n",
        "  preds = model.predict(x)\n",
        "  #print (preds)\n",
        "  class_idx = np.argmax(preds[0])\n",
        "  print ('Predicted label ' + str(class_idx))\n",
        "\n",
        "  class_output = model.output[:, class_idx]\n",
        "  last_conv_layer = model.get_layer(\"Decision\")\n",
        "\n",
        "  # Generate HeatMap\n",
        "  grads = K.gradients(class_output, last_conv_layer.output)[0]\n",
        "  pooled_grads = K.mean(grads, axis=(0, 1, 2))\n",
        "  iterate = K.function([model.input], [pooled_grads, last_conv_layer.output[0]])\n",
        "  pooled_grads_value, conv_layer_output_value = iterate([x])\n",
        "  for i in range(10):\n",
        "      conv_layer_output_value[:, :, i] *= pooled_grads_value[i]\n",
        "\n",
        "  heatmap = np.mean(conv_layer_output_value, axis=-1)\n",
        "  heatmap = np.maximum(heatmap, 0)\n",
        "  heatmap /= np.max(heatmap)\n",
        "\n",
        "\n",
        "  img = test_features[test_img_numbers[test_img_idx],:,:,:]\n",
        "\n",
        "\n",
        "  heatmap = cv2.resize(heatmap, (img.shape[1], img.shape[0]))\n",
        "  heatmap = np.uint8(255 * heatmap)\n",
        "  heatmap = cv2.applyColorMap(heatmap, cv2.COLORMAP_JET)\n",
        "\n",
        "  img = np.uint8(255 * img)\n",
        "\n",
        "  superimposed_img = cv2.addWeighted(img, 0.6, heatmap, 0.4, 0)\n",
        "\n",
        "  #plt.imshow(superimposed_img)\n",
        "\n",
        "  image_show_in_grid[test_img_idx,:,:,:]  = img \n",
        "  image_show_in_grid[test_img_idx+4,:,:,:] = superimposed_img\n",
        "  print(test_img_idx)\n",
        "  \n",
        "\n",
        "fig = plt.figure(figsize=(8,3))\n",
        "for i in range(8):\n",
        "    ax = fig.add_subplot(2, 4, 1 + i, xticks=[], yticks=[])\n",
        "    im = image_show_in_grid[i, :,:,:]\n",
        "    plt.imshow(im)\n",
        "plt.show()\n"
      ],
      "execution_count": 139,
      "outputs": [
        {
          "output_type": "stream",
          "text": [
            "Original Label[0. 0. 0. 1. 0. 0. 0. 0. 0. 0.]\n",
            "Predicted label 8\n",
            "0\n",
            "Original Label[0. 0. 0. 0. 0. 0. 0. 0. 1. 0.]\n",
            "Predicted label 9\n",
            "1\n",
            "Original Label[0. 0. 0. 0. 0. 0. 0. 0. 1. 0.]\n",
            "Predicted label 0\n",
            "2\n",
            "Original Label[1. 0. 0. 0. 0. 0. 0. 0. 0. 0.]\n",
            "Predicted label 1\n",
            "3\n"
          ],
          "name": "stdout"
        },
        {
          "output_type": "display_data",
          "data": {
            "image/png": "[encoded data removed]",
            "text/plain": [
              "<Figure size 576x216 with 8 Axes>"
            ]
          },
          "metadata": {
            "tags": []
          }
        }
      ]
    }
  ]
}