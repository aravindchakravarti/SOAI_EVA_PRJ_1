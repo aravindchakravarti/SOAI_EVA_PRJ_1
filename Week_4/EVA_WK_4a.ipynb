{
  "nbformat": 4,
  "nbformat_minor": 0,
  "metadata": {
    "colab": {
      "name": "EVA_WK_4a.ipynb",
      "version": "0.3.2",
      "provenance": [],
      "collapsed_sections": [],
      "toc_visible": true
    },
    "kernelspec": {
      "name": "python3",
      "display_name": "Python 3"
    },
    "accelerator": "GPU"
  },
  "cells": [
    {
      "cell_type": "markdown",
      "metadata": {
        "id": "-nJ7YEw_vyjG",
        "colab_type": "text"
      },
      "source": [
        "# **Not an ideal network**\n",
        "\n",
        "## Aiming to just get good accuracy even without worrying the number of parameters\n",
        "\n",
        "  * Just make a naive network. Let us check by having two maxpooling layers. We know it is wrong, but let us take a chance and see how far we can go.\n",
        "  * Have kernel size of maximum 64 because, MNIST is a relatively small dataset and in my opinion 64 itself is a big number"
      ]
    },
    {
      "cell_type": "markdown",
      "metadata": {
        "id": "Rr0Vvz3RF-gO",
        "colab_type": "text"
      },
      "source": [
        "## Import the Libraries required"
      ]
    },
    {
      "cell_type": "code",
      "metadata": {
        "id": "kGWv5hBhv2jf",
        "colab_type": "code",
        "outputId": "75c8ad5e-7542-458e-9907-7c8e8b58e626",
        "colab": {
          "base_uri": "https://localhost:8080/",
          "height": 34
        }
      },
      "source": [
        "# If not installed the Keras, install the Keras using PIP command \n",
        "# https://keras.io/\n",
        "!pip install -q keras\n",
        "import keras"
      ],
      "execution_count": 0,
      "outputs": [
        {
          "output_type": "stream",
          "text": [
            "Using TensorFlow backend.\n"
          ],
          "name": "stderr"
        }
      ]
    },
    {
      "cell_type": "code",
      "metadata": {
        "id": "wnMlDJQKv4VG",
        "colab_type": "code",
        "colab": {}
      },
      "source": [
        "# Import numpy to edit/modify/calculate the numerical data\n",
        "import numpy as np\n",
        "\n",
        "# With Sequential API, we are telling Keras that we are adding layers one by one\n",
        "from keras.models import Sequential\n",
        "\n",
        "# For last layer. Our predictions are output of channels. Not required if we use GAP\n",
        "from keras.layers import Flatten\n",
        "\n",
        "# Single most important API. Which convolves over the image\n",
        "from keras.layers import Convolution2D\n",
        "\n",
        "# Some utilities. Mainly used for converting the Labels into one hot encoding.\n",
        "from keras.utils import np_utils\n",
        "\n",
        "# Finally import the dataset\n",
        "from keras.datasets import mnist"
      ],
      "execution_count": 0,
      "outputs": []
    },
    {
      "cell_type": "markdown",
      "metadata": {
        "id": "PG7gD1-iG2VF",
        "colab_type": "text"
      },
      "source": [
        "## Things Related to Dataset\n"
      ]
    },
    {
      "cell_type": "code",
      "metadata": {
        "id": "8CdSu2lMwB9s",
        "colab_type": "code",
        "outputId": "ba3f19bc-dbac-43fd-f1da-d24cb46ed289",
        "colab": {
          "base_uri": "https://localhost:8080/",
          "height": 51
        }
      },
      "source": [
        "# Load the training data and test data\n",
        "(X_train, y_train), (X_test, y_test) = mnist.load_data()"
      ],
      "execution_count": 0,
      "outputs": [
        {
          "output_type": "stream",
          "text": [
            "Downloading data from https://s3.amazonaws.com/img-datasets/mnist.npz\n",
            "11493376/11490434 [==============================] - 1s 0us/step\n"
          ],
          "name": "stdout"
        }
      ]
    },
    {
      "cell_type": "code",
      "metadata": {
        "id": "tLaDf0-rwCmj",
        "colab_type": "code",
        "outputId": "d1194ccb-7d4f-4b5e-b207-30c0badcc6fc",
        "colab": {
          "base_uri": "https://localhost:8080/",
          "height": 303
        }
      },
      "source": [
        "# How many training samples do we have?\n",
        "print (X_train.shape)\n",
        "\n",
        "# Let us look at one of the image. If you want to check different images, then just change \n",
        "# Index in X_train[]\n",
        "from matplotlib import pyplot as plt\n",
        "%matplotlib inline\n",
        "plt.imshow(X_train[1])"
      ],
      "execution_count": 0,
      "outputs": [
        {
          "output_type": "stream",
          "text": [
            "(60000, 28, 28)\n"
          ],
          "name": "stdout"
        },
        {
          "output_type": "execute_result",
          "data": {
            "text/plain": [
              "<matplotlib.image.AxesImage at 0x7efe7209a6a0>"
            ]
          },
          "metadata": {
            "tags": []
          },
          "execution_count": 5
        },
        {
          "output_type": "display_data",
          "data": {
            "image/png": "[encoded data removed]",
            "text/plain": [
              "<Figure size 432x288 with 1 Axes>"
            ]
          },
          "metadata": {
            "tags": []
          }
        }
      ]
    },
    {
      "cell_type": "code",
      "metadata": {
        "id": "erb11jNwwFwl",
        "colab_type": "code",
        "colab": {}
      },
      "source": [
        "# This line is redundant as our dataset is already in correct SHAPE (Python Shape). However it is \n",
        "# good practice to do this\n",
        "X_train = X_train.reshape(X_train.shape[0], 28, 28,1)\n",
        "X_test = X_test.reshape(X_test.shape[0], 28, 28,1)"
      ],
      "execution_count": 0,
      "outputs": []
    },
    {
      "cell_type": "code",
      "metadata": {
        "id": "RLK4YDoRwHet",
        "colab_type": "code",
        "colab": {}
      },
      "source": [
        "# We are using the MNIST data, which actually contains the Grascale integer images whos values change from 0-255\n",
        "# We are converting those float, because in the next few lines we are doing division operation on it\n",
        "X_train = X_train.astype('float32')\n",
        "X_test = X_test.astype('float32')\n",
        "\n",
        "# Zero mean out operation. We are not removing any features here, we are just bringing all the values within 0 to 1\n",
        "# Cruedly we can think of this as batch normalization (Not exactly but somewhat similar)\n",
        "X_train /= 255\n",
        "X_test /= 255"
      ],
      "execution_count": 0,
      "outputs": []
    },
    {
      "cell_type": "code",
      "metadata": {
        "id": "JNKLOmhlwJQl",
        "colab_type": "code",
        "outputId": "b864b74f-cd05-4a5b-8845-eea92bd263ed",
        "colab": {
          "base_uri": "https://localhost:8080/",
          "height": 34
        }
      },
      "source": [
        "# Do you want to see the labels?\n",
        "y_train[:10]"
      ],
      "execution_count": 0,
      "outputs": [
        {
          "output_type": "execute_result",
          "data": {
            "text/plain": [
              "array([5, 0, 4, 1, 9, 2, 1, 3, 1, 4], dtype=uint8)"
            ]
          },
          "metadata": {
            "tags": []
          },
          "execution_count": 8
        }
      ]
    },
    {
      "cell_type": "code",
      "metadata": {
        "id": "YusMJguiwKsM",
        "colab_type": "code",
        "colab": {}
      },
      "source": [
        "# Convert 1-dimensional class arrays to 10-dimensional class matrices (We call it one hot encoding)\n",
        "Y_train = np_utils.to_categorical(y_train, 10)\n",
        "Y_test = np_utils.to_categorical(y_test, 10)"
      ],
      "execution_count": 0,
      "outputs": []
    },
    {
      "cell_type": "code",
      "metadata": {
        "id": "upxc99AswMW0",
        "colab_type": "code",
        "outputId": "c507e27d-149b-4492-e3f4-1f9463a0d2df",
        "colab": {
          "base_uri": "https://localhost:8080/",
          "height": 187
        }
      },
      "source": [
        "# No we can see that labels are in terms of matrices\n",
        "# You can map label to corresponding column number\n",
        "Y_train[:10]"
      ],
      "execution_count": 0,
      "outputs": [
        {
          "output_type": "execute_result",
          "data": {
            "text/plain": [
              "array([[0., 0., 0., 0., 0., 1., 0., 0., 0., 0.],\n",
              "       [1., 0., 0., 0., 0., 0., 0., 0., 0., 0.],\n",
              "       [0., 0., 0., 0., 1., 0., 0., 0., 0., 0.],\n",
              "       [0., 1., 0., 0., 0., 0., 0., 0., 0., 0.],\n",
              "       [0., 0., 0., 0., 0., 0., 0., 0., 0., 1.],\n",
              "       [0., 0., 1., 0., 0., 0., 0., 0., 0., 0.],\n",
              "       [0., 1., 0., 0., 0., 0., 0., 0., 0., 0.],\n",
              "       [0., 0., 0., 1., 0., 0., 0., 0., 0., 0.],\n",
              "       [0., 1., 0., 0., 0., 0., 0., 0., 0., 0.],\n",
              "       [0., 0., 0., 0., 1., 0., 0., 0., 0., 0.]], dtype=float32)"
            ]
          },
          "metadata": {
            "tags": []
          },
          "execution_count": 10
        }
      ]
    },
    {
      "cell_type": "markdown",
      "metadata": {
        "id": "kK4QDRfBYbEn",
        "colab_type": "text"
      },
      "source": [
        "## The main block\n",
        "\n"
      ]
    },
    {
      "cell_type": "code",
      "metadata": {
        "id": "irTVUE47wNwr",
        "colab_type": "code",
        "outputId": "0332d923-7436-4af6-afd2-6fd922fc8962",
        "colab": {
          "base_uri": "https://localhost:8080/",
          "height": 632
        }
      },
      "source": [
        "# Import activations. We use Relu by default on all layers except layer, where we use Softmax\n",
        "\n",
        "\n",
        "from keras.layers import Activation, MaxPooling2D\n",
        "\n",
        "# Let us build the model\n",
        "model = Sequential() \n",
        "\n",
        "\n",
        "model.add(Convolution2D(32, 3, 3, activation='relu', input_shape=(28,28,1))) #26\n",
        "\n",
        "model.add(Convolution2D(64, 3, 3, activation='relu')) #24\n",
        "\n",
        "\n",
        "model.add(MaxPooling2D(pool_size=(2, 2))) #12\n",
        "\n",
        "\n",
        "model.add(Convolution2D(64, 3, 3, activation='relu')) #10\n",
        "\n",
        "\n",
        "model.add(Convolution2D(64, 3, 3, activation='relu')) #08\n",
        "\n",
        "model.add(MaxPooling2D(pool_size=(2, 2))) #4\n",
        "\n",
        "model.add(Convolution2D(64, 3, 3, activation='relu')) #2\n",
        "\n",
        "model.add(Convolution2D(10, 2, 2, activation='relu')) #1\n",
        "\n",
        "\n",
        "model.add(Flatten())\n",
        "\n",
        "\n",
        "model.add(Activation('softmax'))\n",
        "\n",
        "\n",
        "model.summary()"
      ],
      "execution_count": 0,
      "outputs": [
        {
          "output_type": "stream",
          "text": [
            "_________________________________________________________________\n",
            "Layer (type)                 Output Shape              Param #   \n",
            "=================================================================\n",
            "conv2d_48 (Conv2D)           (None, 26, 26, 32)        320       \n",
            "_________________________________________________________________\n",
            "conv2d_49 (Conv2D)           (None, 24, 24, 64)        18496     \n",
            "_________________________________________________________________\n",
            "max_pooling2d_17 (MaxPooling (None, 12, 12, 64)        0         \n",
            "_________________________________________________________________\n",
            "conv2d_50 (Conv2D)           (None, 10, 10, 64)        36928     \n",
            "_________________________________________________________________\n",
            "conv2d_51 (Conv2D)           (None, 8, 8, 64)          36928     \n",
            "_________________________________________________________________\n",
            "max_pooling2d_18 (MaxPooling (None, 4, 4, 64)          0         \n",
            "_________________________________________________________________\n",
            "conv2d_52 (Conv2D)           (None, 2, 2, 64)          36928     \n",
            "_________________________________________________________________\n",
            "conv2d_53 (Conv2D)           (None, 1, 1, 10)          2570      \n",
            "_________________________________________________________________\n",
            "flatten_5 (Flatten)          (None, 10)                0         \n",
            "_________________________________________________________________\n",
            "activation_5 (Activation)    (None, 10)                0         \n",
            "=================================================================\n",
            "Total params: 132,170\n",
            "Trainable params: 132,170\n",
            "Non-trainable params: 0\n",
            "_________________________________________________________________\n"
          ],
          "name": "stdout"
        },
        {
          "output_type": "stream",
          "text": [
            "/usr/local/lib/python3.6/dist-packages/ipykernel_launcher.py:9: UserWarning: Update your `Conv2D` call to the Keras 2 API: `Conv2D(32, (3, 3), activation=\"relu\", input_shape=(28, 28, 1...)`\n",
            "  if __name__ == '__main__':\n",
            "/usr/local/lib/python3.6/dist-packages/ipykernel_launcher.py:11: UserWarning: Update your `Conv2D` call to the Keras 2 API: `Conv2D(64, (3, 3), activation=\"relu\")`\n",
            "  # This is added back by InteractiveShellApp.init_path()\n",
            "/usr/local/lib/python3.6/dist-packages/ipykernel_launcher.py:17: UserWarning: Update your `Conv2D` call to the Keras 2 API: `Conv2D(64, (3, 3), activation=\"relu\")`\n",
            "/usr/local/lib/python3.6/dist-packages/ipykernel_launcher.py:20: UserWarning: Update your `Conv2D` call to the Keras 2 API: `Conv2D(64, (3, 3), activation=\"relu\")`\n",
            "/usr/local/lib/python3.6/dist-packages/ipykernel_launcher.py:24: UserWarning: Update your `Conv2D` call to the Keras 2 API: `Conv2D(64, (3, 3), activation=\"relu\")`\n",
            "/usr/local/lib/python3.6/dist-packages/ipykernel_launcher.py:26: UserWarning: Update your `Conv2D` call to the Keras 2 API: `Conv2D(10, (2, 2), activation=\"relu\")`\n"
          ],
          "name": "stderr"
        }
      ]
    },
    {
      "cell_type": "code",
      "metadata": {
        "id": "VYZOpRb6yG7_",
        "colab_type": "code",
        "colab": {}
      },
      "source": [
        "# Let us compile the model. We are using Categorical Crossentropy because we are building the classifier\n",
        "# Adam optimizer is ADAptive Momentum optimizer, which can be considered as superior optimzer considered to \n",
        "# Stochastic Gradient Descent\n",
        "\n",
        "model.compile(loss='categorical_crossentropy',\n",
        "             optimizer='adam',\n",
        "             metrics=['accuracy'])"
      ],
      "execution_count": 0,
      "outputs": []
    },
    {
      "cell_type": "code",
      "metadata": {
        "id": "5O248wVQyMft",
        "colab_type": "code",
        "outputId": "4d18ac4d-6d84-4e8d-dfd2-dc44cd2de202",
        "colab": {
          "base_uri": "https://localhost:8080/",
          "height": 428
        }
      },
      "source": [
        "# In the previous block we have made our model ready. Let us run the code by feeding training data and labels\n",
        "# Batch-size defines how many samples we are feeding at a time\n",
        "\n",
        "model.fit(X_train, Y_train, batch_size=32, nb_epoch=10, verbose=1)"
      ],
      "execution_count": 0,
      "outputs": [
        {
          "output_type": "stream",
          "text": [
            "/usr/local/lib/python3.6/dist-packages/ipykernel_launcher.py:2: UserWarning: The `nb_epoch` argument in `fit` has been renamed `epochs`.\n",
            "  \n"
          ],
          "name": "stderr"
        },
        {
          "output_type": "stream",
          "text": [
            "Epoch 1/10\n",
            "60000/60000 [==============================] - 11s 175us/step - loss: 1.2496 - acc: 0.5733\n",
            "Epoch 2/10\n",
            "60000/60000 [==============================] - 11s 186us/step - loss: 1.1943 - acc: 0.5872\n",
            "Epoch 3/10\n",
            "60000/60000 [==============================] - 10s 168us/step - loss: 1.1837 - acc: 0.5895\n",
            "Epoch 4/10\n",
            "60000/60000 [==============================] - 10s 169us/step - loss: 1.1795 - acc: 0.5905\n",
            "Epoch 5/10\n",
            "60000/60000 [==============================] - 10s 168us/step - loss: 1.1376 - acc: 0.6082\n",
            "Epoch 6/10\n",
            "60000/60000 [==============================] - 10s 168us/step - loss: 0.9041 - acc: 0.7088\n",
            "Epoch 7/10\n",
            "60000/60000 [==============================] - 10s 167us/step - loss: 0.7127 - acc: 0.7917\n",
            "Epoch 8/10\n",
            "60000/60000 [==============================] - 10s 167us/step - loss: 0.7087 - acc: 0.7932\n",
            "Epoch 9/10\n",
            "60000/60000 [==============================] - 10s 168us/step - loss: 0.7064 - acc: 0.7939\n",
            "Epoch 10/10\n",
            "60000/60000 [==============================] - 11s 184us/step - loss: 0.7059 - acc: 0.7938\n"
          ],
          "name": "stdout"
        },
        {
          "output_type": "execute_result",
          "data": {
            "text/plain": [
              "<keras.callbacks.History at 0x7efe711ecd30>"
            ]
          },
          "metadata": {
            "tags": []
          },
          "execution_count": 26
        }
      ]
    },
    {
      "cell_type": "code",
      "metadata": {
        "id": "Sst4KneiyOL5",
        "colab_type": "code",
        "outputId": "08401016-0ca9-4b1a-a8b6-de3d8911f128",
        "colab": {
          "base_uri": "https://localhost:8080/",
          "height": 34
        }
      },
      "source": [
        "# Predict the score by evaluating the model performance on the test set\n",
        "score = model.evaluate(X_test, Y_test, verbose=0)\n",
        "\n",
        "# Print the scores\n",
        "print(score)"
      ],
      "execution_count": 0,
      "outputs": [
        {
          "output_type": "stream",
          "text": [
            "[0.7157764858722687, 0.7923]\n"
          ],
          "name": "stdout"
        }
      ]
    },
    {
      "cell_type": "markdown",
      "metadata": {
        "id": "kBxPRyQJcxeA",
        "colab_type": "text"
      },
      "source": [
        "## Observations\n",
        "\n",
        "  * Okay. We reached training accuracy of 80% (around) and Test accuracy of 80%(around)\n",
        "    * That means network did not overfit, which is good\n",
        "  * By looking at the accuracy table we can claim that, network still has capacity to get trained. \n",
        "    * But we do not want to go further as our aim is 16k model."
      ]
    }
  ]
}